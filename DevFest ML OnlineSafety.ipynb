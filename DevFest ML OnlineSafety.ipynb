{
 "cells": [
  {
   "cell_type": "markdown",
   "metadata": {},
   "source": [
    "# Imports\n"
   ]
  },
  {
   "cell_type": "code",
   "execution_count": 1,
   "metadata": {},
   "outputs": [],
   "source": [
    "import pandas as pd\n",
    "import nltk\n",
    "import re\n",
    "from sklearn.model_selection import GridSearchCV\n",
    "from sklearn.svm import SVC\n",
    "import string\n",
    "from nltk.corpus import stopwords\n",
    "from nltk.tokenize import word_tokenize\n",
    "from nltk.stem import WordNetLemmatizer\n",
    "from sklearn.model_selection import train_test_split\n",
    "from sklearn.feature_extraction.text import TfidfVectorizer\n",
    "from sklearn.feature_extraction.text import TfidfTransformer\n",
    "from sklearn.naive_bayes import MultinomialNB\n",
    "from sklearn.metrics import classification_report, confusion_matrix\n",
    "from sklearn.metrics import recall_score\n",
    "from sklearn.naive_bayes import BernoulliNB\n",
    "from sklearn.metrics  import accuracy_score\n",
    "from sklearn.tree import DecisionTreeClassifier\n",
    "from sklearn.metrics import f1_score\n",
    "from sklearn.ensemble import RandomForestClassifier"
   ]
  },
  {
   "cell_type": "markdown",
   "metadata": {},
   "source": [
    "# Select Data"
   ]
  },
  {
   "cell_type": "code",
   "execution_count": 2,
   "metadata": {},
   "outputs": [],
   "source": [
    "df=pd.read_csv(\"Onlinesafety.csv\", sep=',', header=0)\n",
    "\n",
    "#Removing duplicates\n",
    "df=df.drop_duplicates(subset=None, keep='first', inplace=False)\n",
    "\n",
    "X=df['tweet']\n",
    "Y=df['class']"
   ]
  },
  {
   "cell_type": "markdown",
   "metadata": {},
   "source": [
    "# Data Processing "
   ]
  },
  {
   "cell_type": "code",
   "execution_count": 3,
   "metadata": {},
   "outputs": [],
   "source": [
    "#Removing NaN instance\n",
    "X=X.dropna()\n",
    "Y=Y.dropna()\n",
    "\n",
    "    \n",
    "#1----------------------------------Normalisation Lower case\n",
    "    \n",
    "X=X.str.lower()\n",
    "        \n",
    "#2----------------------------------Elimination des Usernames\n",
    "        \n",
    "def RemoveUsername(tweet):\n",
    "    x=re.sub('@[^\\s]+','',tweet)\n",
    "    return x\n",
    "        \n",
    "X=X.apply(lambda x: RemoveUsername(x))\n",
    "    \n",
    "#3----------------------------------Elimination des Hashtags\n",
    "    \n",
    "def RemoveHashtags(tweet):\n",
    "    x=re.sub('\\#[^\\s]+','',tweet)\n",
    "    return x\n",
    "\n",
    "X=X.apply(lambda x: RemoveHashtags(x))\n",
    "        \n",
    "#4---------------------------------Elimination des URL's\n",
    "        \n",
    "def RemoveUrl(tweet):\n",
    "    x=re.sub('http\\S+','',tweet)\n",
    "    return x\n",
    "    \n",
    "X=X.apply(lambda x: RemoveUrl(x))\n",
    "        \n",
    "#5--------------------------------Elimination de la ponctuation et caracteres speciaux \n",
    "        \n",
    "def RemovePunc(tweet):\n",
    "    x=re.sub('[^\\w\\D\\s]','',tweet)\n",
    "    return x\n",
    "\n",
    "X=X.apply(lambda x: RemovePunc(x))\n",
    "\n",
    "\n",
    "#6------------------------------Lemmatisation \n",
    "        \n",
    "lemmatizer = WordNetLemmatizer()\n",
    "\n",
    "X=X.apply(lambda x: lemmatizer.lemmatize(x))\n"
   ]
  },
  {
   "cell_type": "markdown",
   "metadata": {},
   "source": [
    "# Split Data"
   ]
  },
  {
   "cell_type": "code",
   "execution_count": 4,
   "metadata": {},
   "outputs": [],
   "source": [
    "X_train, X_test, y_train,y_test= train_test_split(X,Y,test_size=0.20,random_state=42)\n",
    "\n",
    "X_train,X_val, y_train, y_val =train_test_split(X_train,y_train,test_size=0.25,random_state=42)"
   ]
  },
  {
   "cell_type": "markdown",
   "metadata": {},
   "source": [
    "# Vectors"
   ]
  },
  {
   "cell_type": "code",
   "execution_count": 5,
   "metadata": {},
   "outputs": [],
   "source": [
    "vectorizer = TfidfVectorizer(max_features=4000, stop_words=stopwords.words('english'), ngram_range=(1,2))\n",
    "X_train = vectorizer.fit_transform(X_train).toarray()\n",
    "X_val = vectorizer.transform(X_val).toarray()\n",
    "X_test= vectorizer.transform(X_test).toarray()"
   ]
  },
  {
   "cell_type": "markdown",
   "metadata": {},
   "source": [
    "# Classification"
   ]
  },
  {
   "cell_type": "code",
   "execution_count": 6,
   "metadata": {},
   "outputs": [
    {
     "name": "stdout",
     "output_type": "stream",
     "text": [
      "0.8456727859592496\n"
     ]
    }
   ],
   "source": [
    "#Training\n",
    "model=MultinomialNB()\n",
    "model.fit(X_train,y_train)\n",
    "\n",
    "#Predicting \n",
    "pred=model.predict(X_val)\n",
    "\n",
    "\n",
    "#Evaluation de l'algorithme\n",
    "\n",
    "print(accuracy_score(y_val,pred))"
   ]
  },
  {
   "cell_type": "code",
   "execution_count": 7,
   "metadata": {},
   "outputs": [
    {
     "name": "stdout",
     "output_type": "stream",
     "text": [
      "0.8813798668549526\n"
     ]
    }
   ],
   "source": [
    "#Training\n",
    "model=BernoulliNB()\n",
    "model.fit(X_train,y_train)\n",
    "\n",
    "#Predicting \n",
    "pred=model.predict(X_val)\n",
    "\n",
    "\n",
    "#Evaluation de l'algorithme\n",
    "\n",
    "print(accuracy_score(y_val,pred))"
   ]
  },
  {
   "cell_type": "code",
   "execution_count": 8,
   "metadata": {},
   "outputs": [
    {
     "name": "stdout",
     "output_type": "stream",
     "text": [
      "0.861206374823482\n"
     ]
    }
   ],
   "source": [
    "#Training\n",
    "model=DecisionTreeClassifier()\n",
    "model.fit(X_train,y_train)\n",
    "\n",
    "#Predicting \n",
    "pred=model.predict(X_val)\n",
    "\n",
    "\n",
    "#Evaluation de l'algorithme\n",
    "\n",
    "print(accuracy_score(y_val,pred))"
   ]
  },
  {
   "cell_type": "code",
   "execution_count": 9,
   "metadata": {},
   "outputs": [
    {
     "name": "stdout",
     "output_type": "stream",
     "text": [
      "0.8884405890659673\n"
     ]
    }
   ],
   "source": [
    "#Training\n",
    "model=RandomForestClassifier()\n",
    "model.fit(X_train,y_train)\n",
    "\n",
    "#Predicting \n",
    "pred=model.predict(X_val)\n",
    "\n",
    "\n",
    "#Evaluation de l'algorithme\n",
    "\n",
    "print(accuracy_score(y_val,pred))"
   ]
  },
  {
   "cell_type": "code",
   "execution_count": 10,
   "metadata": {},
   "outputs": [
    {
     "name": "stdout",
     "output_type": "stream",
     "text": [
      "0.8894492636675408\n"
     ]
    }
   ],
   "source": [
    "#Training\n",
    "model=SVC()\n",
    "model.fit(X_train,y_train)\n",
    "\n",
    "#Predicting \n",
    "pred=model.predict(X_val)\n",
    "\n",
    "\n",
    "#Evaluation de l'algorithme\n",
    "\n",
    "print(accuracy_score(y_val,pred))"
   ]
  },
  {
   "cell_type": "markdown",
   "metadata": {},
   "source": [
    "## GridSearch"
   ]
  },
  {
   "cell_type": "code",
   "execution_count": 11,
   "metadata": {},
   "outputs": [],
   "source": [
    "def hyper_para(params,score,file):\n",
    "    file.write(\"Best Params: \"+str(params))"
   ]
  },
  {
   "cell_type": "markdown",
   "metadata": {},
   "source": [
    "### SVM"
   ]
  },
  {
   "cell_type": "code",
   "execution_count": null,
   "metadata": {},
   "outputs": [],
   "source": [
    "res=open(\"SVC_hyperpar.txt\",\"w\")\n",
    "        \n",
    "grid_params={\n",
    "    'C': [0.1, 1, 10, 100, 1000],  \n",
    "    'gamma': [1, 0.1, 0.01, 0.001, 0.0001], \n",
    "    'kernel': ['rbf']\n",
    "                }\n",
    "\n",
    "Gs=GridSearchCV(\n",
    "    SVC(),\n",
    "    grid_params,\n",
    "    verbose=0,\n",
    "    cv=5,\n",
    "    n_jobs=-1,\n",
    "    scoring='accuracy'\n",
    "               )\n",
    "\n",
    "grid_result = Gs.fit(X_train, y_train)\n",
    "\n",
    "best_params = grid_result.best_params_\n",
    "best_score = grid_result.best_score_\n",
    "hyper_para(best_params,best_score,res)\n",
    "                           \n",
    "\n",
    "res.close()\n",
    "\n"
   ]
  },
  {
   "cell_type": "markdown",
   "metadata": {},
   "source": [
    "### RandomForest"
   ]
  },
  {
   "cell_type": "code",
   "execution_count": null,
   "metadata": {},
   "outputs": [],
   "source": [
    "res=open(\"RF_hyperpar.txt\",\"w\")\n",
    "\n",
    "        \n",
    "grid_params={\n",
    "    'max_features': ['auto', 'sqrt'],\n",
    "    'min_samples_split': [2, 5, 10],\n",
    "    'n_estimators': [200, 300, 400]\n",
    "                }\n",
    "\n",
    "Gs=GridSearchCV(\n",
    "    RandomForestClassifier(),\n",
    "    grid_params,\n",
    "    verbose=0,\n",
    "    cv=5,\n",
    "    n_jobs=-1,\n",
    "    scoring='accuracy'\n",
    "               )\n",
    "\n",
    "grid_result = Gs.fit(X_train, y_train)\n",
    "\n",
    "best_params = grid_result.best_params_\n",
    "best_score = grid_result.best_score_\n",
    "hyper_para(best_params,best_score,res)\n",
    "                           \n",
    "\n",
    "res.close()"
   ]
  },
  {
   "cell_type": "markdown",
   "metadata": {},
   "source": [
    "# Final Test "
   ]
  },
  {
   "cell_type": "code",
   "execution_count": 13,
   "metadata": {},
   "outputs": [
    {
     "name": "stdout",
     "output_type": "stream",
     "text": [
      "0.8924752874722615\n"
     ]
    }
   ],
   "source": [
    "#Training\n",
    "model=SVC(C= 10, gamma=0.1, kernel='rbf')\n",
    "model.fit(X_train,y_train)\n",
    "\n",
    "#Predicting \n",
    "pred=model.predict(X_test)\n",
    "\n",
    "\n",
    "#Evaluation de l'algorithme\n",
    "\n",
    "print(accuracy_score(y_test,pred))\n"
   ]
  },
  {
   "cell_type": "code",
   "execution_count": 14,
   "metadata": {},
   "outputs": [
    {
     "name": "stdout",
     "output_type": "stream",
     "text": [
      "              precision    recall  f1-score   support\n",
      "\n",
      "         0.0       0.51      0.24      0.33       290\n",
      "         1.0       0.92      0.95      0.94      3832\n",
      "         2.0       0.83      0.84      0.83       835\n",
      "\n",
      "    accuracy                           0.89      4957\n",
      "   macro avg       0.75      0.68      0.70      4957\n",
      "weighted avg       0.88      0.89      0.88      4957\n",
      "\n"
     ]
    }
   ],
   "source": [
    "print(classification_report(y_test,pred))"
   ]
  },
  {
   "cell_type": "code",
   "execution_count": 15,
   "metadata": {},
   "outputs": [
    {
     "name": "stdout",
     "output_type": "stream",
     "text": [
      "0.8872301795440791\n",
      "              precision    recall  f1-score   support\n",
      "\n",
      "         0.0       0.41      0.13      0.20       290\n",
      "         1.0       0.91      0.96      0.93      3832\n",
      "         2.0       0.82      0.83      0.83       835\n",
      "\n",
      "    accuracy                           0.89      4957\n",
      "   macro avg       0.72      0.64      0.65      4957\n",
      "weighted avg       0.87      0.89      0.87      4957\n",
      "\n"
     ]
    }
   ],
   "source": [
    "#Training\n",
    "model=RandomForestClassifier(max_features='auto',min_samples_split=5,n_estimators=200)\n",
    "model.fit(X_train,y_train)\n",
    "\n",
    "#Predicting \n",
    "pred=model.predict(X_test)\n",
    "\n",
    "\n",
    "#Evaluation de l'algorithme\n",
    "\n",
    "print(accuracy_score(y_test,pred))\n",
    "print(classification_report(y_test,pred))"
   ]
  },
  {
   "cell_type": "code",
   "execution_count": null,
   "metadata": {},
   "outputs": [],
   "source": []
  }
 ],
 "metadata": {
  "kernelspec": {
   "display_name": "Python 3",
   "language": "python",
   "name": "python3"
  }
 },
 "nbformat": 4,
 "nbformat_minor": 4
}
