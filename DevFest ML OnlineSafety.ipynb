{
 "cells": [
  {
   "cell_type": "markdown",
   "metadata": {},
   "source": [
    "# Imports\n"
   ]
  },
  {
   "cell_type": "code",
   "execution_count": 12,
   "metadata": {},
   "outputs": [],
   "source": [
    "import pandas as pd\n",
    "import nltk\n",
    "import re\n",
    "from sklearn.svm import SVC\n",
    "import string\n",
    "from nltk.corpus import stopwords\n",
    "from nltk.tokenize import word_tokenize\n",
    "from nltk.stem import WordNetLemmatizer\n",
    "from sklearn.model_selection import train_test_split\n",
    "from sklearn.feature_extraction.text import TfidfVectorizer\n",
    "from sklearn.feature_extraction.text import TfidfTransformer\n",
    "from sklearn.naive_bayes import MultinomialNB\n",
    "from sklearn.metrics import classification_report, confusion_matrix\n",
    "from sklearn.metrics import recall_score\n",
    "from sklearn.naive_bayes import BernoulliNB\n",
    "from sklearn.metrics  import accuracy_score\n",
    "from sklearn.tree import DecisionTreeClassifier\n",
    "from sklearn.metrics import f1_score\n",
    "from sklearn.ensemble import RandomForestClassifier"
   ]
  },
  {
   "cell_type": "markdown",
   "metadata": {},
   "source": [
    "# Select Data"
   ]
  },
  {
   "cell_type": "code",
   "execution_count": 2,
   "metadata": {},
   "outputs": [],
   "source": [
    "df=pd.read_csv(\"Onlinesafety.csv\", sep=',', header=0)\n",
    "\n",
    "#Removing duplicates\n",
    "df=df.drop_duplicates(subset=None, keep='first', inplace=False)\n",
    "\n",
    "X=df['tweet']\n",
    "Y=df['class']"
   ]
  },
  {
   "cell_type": "markdown",
   "metadata": {},
   "source": [
    "# Data Processing "
   ]
  },
  {
   "cell_type": "code",
   "execution_count": 3,
   "metadata": {},
   "outputs": [],
   "source": [
    "#Removing NaN instance\n",
    "X=X.dropna()\n",
    "Y=Y.dropna()\n",
    "\n",
    "    \n",
    "#1----------------------------------Normalisation Lower case\n",
    "    \n",
    "X=X.str.lower()\n",
    "        \n",
    "#2----------------------------------Elimination des Usernames\n",
    "        \n",
    "def RemoveUsername(tweet):\n",
    "    x=re.sub('@[^\\s]+','',tweet)\n",
    "    return x\n",
    "        \n",
    "X=X.apply(lambda x: RemoveUsername(x))\n",
    "    \n",
    "#3----------------------------------Elimination des Hashtags\n",
    "    \n",
    "def RemoveHashtags(tweet):\n",
    "    x=re.sub('\\#[^\\s]+','',tweet)\n",
    "    return x\n",
    "\n",
    "X=X.apply(lambda x: RemoveHashtags(x))\n",
    "        \n",
    "#4---------------------------------Elimination des URL's\n",
    "        \n",
    "def RemoveUrl(tweet):\n",
    "    x=re.sub('http\\S+','',tweet)\n",
    "    return x\n",
    "    \n",
    "X=X.apply(lambda x: RemoveUrl(x))\n",
    "        \n",
    "#5--------------------------------Elimination de la ponctuation et caracteres speciaux \n",
    "        \n",
    "def RemovePunc(tweet):\n",
    "    x=re.sub('[^\\w\\D\\s]','',tweet)\n",
    "    return x\n",
    "\n",
    "X=X.apply(lambda x: RemovePunc(x))\n",
    "\n",
    "\n",
    "#6------------------------------Lemmatisation \n",
    "        \n",
    "lemmatizer = WordNetLemmatizer()\n",
    "\n",
    "X=X.apply(lambda x: lemmatizer.lemmatize(x))\n"
   ]
  },
  {
   "cell_type": "markdown",
   "metadata": {},
   "source": [
    "# Split Data"
   ]
  },
  {
   "cell_type": "code",
   "execution_count": 14,
   "metadata": {},
   "outputs": [],
   "source": [
    "X_train, X_test, y_train,y_test= train_test_split(X,Y,test_size=0.20,random_state=42)\n",
    "\n",
    "X_train,X_val, y_train, y_val =train_test_split(X_train,y_train,test_size=0.25,random_state=42)"
   ]
  },
  {
   "cell_type": "markdown",
   "metadata": {},
   "source": [
    "# Vectors"
   ]
  },
  {
   "cell_type": "code",
   "execution_count": 15,
   "metadata": {},
   "outputs": [],
   "source": [
    "vectorizer = TfidfVectorizer(max_features=4000, stop_words=stopwords.words('english'), ngram_range=(1,2))\n",
    "X_train = vectorizer.fit_transform(X_train).toarray()\n",
    "X_val = vectorizer.transform(X_val).toarray()\n",
    "X_test= vectorizer.transform(X_test).toarray()"
   ]
  },
  {
   "cell_type": "markdown",
   "metadata": {},
   "source": [
    "# Classification"
   ]
  },
  {
   "cell_type": "code",
   "execution_count": 6,
   "metadata": {},
   "outputs": [
    {
     "name": "stdout",
     "output_type": "stream",
     "text": [
      "0.841234617712326\n"
     ]
    }
   ],
   "source": [
    "#Training\n",
    "model=MultinomialNB()\n",
    "model.fit(X_train,y_train)\n",
    "\n",
    "#Predicting \n",
    "pred=model.predict(X_val)\n",
    "\n",
    "\n",
    "#Evaluation de l'algorithme\n",
    "\n",
    "print(accuracy_score(y_val,pred))"
   ]
  },
  {
   "cell_type": "code",
   "execution_count": 7,
   "metadata": {},
   "outputs": [
    {
     "name": "stdout",
     "output_type": "stream",
     "text": [
      "0.8819850716158967\n"
     ]
    }
   ],
   "source": [
    "#Training\n",
    "model=BernoulliNB()\n",
    "model.fit(X_train,y_train)\n",
    "\n",
    "#Predicting \n",
    "pred=model.predict(X_val)\n",
    "\n",
    "\n",
    "#Evaluation de l'algorithme\n",
    "\n",
    "print(accuracy_score(y_val,pred))"
   ]
  },
  {
   "cell_type": "code",
   "execution_count": 8,
   "metadata": {},
   "outputs": [
    {
     "name": "stdout",
     "output_type": "stream",
     "text": [
      "0.8622150494250554\n"
     ]
    }
   ],
   "source": [
    "#Training\n",
    "model=DecisionTreeClassifier()\n",
    "model.fit(X_train,y_train)\n",
    "\n",
    "#Predicting \n",
    "pred=model.predict(X_val)\n",
    "\n",
    "\n",
    "#Evaluation de l'algorithme\n",
    "\n",
    "print(accuracy_score(y_val,pred))"
   ]
  },
  {
   "cell_type": "code",
   "execution_count": 9,
   "metadata": {},
   "outputs": [
    {
     "name": "stdout",
     "output_type": "stream",
     "text": [
      "0.8862215049425055\n"
     ]
    }
   ],
   "source": [
    "#Training\n",
    "model=RandomForestClassifier()\n",
    "model.fit(X_train,y_train)\n",
    "\n",
    "#Predicting \n",
    "pred=model.predict(X_val)\n",
    "\n",
    "\n",
    "#Evaluation de l'algorithme\n",
    "\n",
    "print(accuracy_score(y_val,pred))"
   ]
  },
  {
   "cell_type": "code",
   "execution_count": 10,
   "metadata": {},
   "outputs": [
    {
     "name": "stdout",
     "output_type": "stream",
     "text": [
      "0.8829937462174703\n"
     ]
    }
   ],
   "source": [
    "#Training\n",
    "model=SVC()\n",
    "model.fit(X_train,y_train)\n",
    "\n",
    "#Predicting \n",
    "pred=model.predict(X_val)\n",
    "\n",
    "\n",
    "#Evaluation de l'algorithme\n",
    "\n",
    "print(accuracy_score(y_val,pred))"
   ]
  },
  {
   "cell_type": "markdown",
   "metadata": {},
   "source": [
    "# Final Test "
   ]
  },
  {
   "cell_type": "code",
   "execution_count": 23,
   "metadata": {},
   "outputs": [
    {
     "name": "stdout",
     "output_type": "stream",
     "text": [
      "0.8835989509784143\n"
     ]
    }
   ],
   "source": [
    "#Training\n",
    "model=SVC(C= 10, gamma=0.1, kernel='rbf')\n",
    "model.fit(X_train,y_train)\n",
    "\n",
    "#Predicting \n",
    "pred=model.predict(X_test)\n",
    "\n",
    "\n",
    "#Evaluation de l'algorithme\n",
    "\n",
    "print(accuracy_score(y_test,pred))\n"
   ]
  },
  {
   "cell_type": "code",
   "execution_count": 25,
   "metadata": {},
   "outputs": [
    {
     "name": "stdout",
     "output_type": "stream",
     "text": [
      "              precision    recall  f1-score   support\n",
      "\n",
      "         0.0       0.45      0.21      0.29       290\n",
      "         1.0       0.91      0.95      0.93      3832\n",
      "         2.0       0.81      0.82      0.82       835\n",
      "\n",
      "    accuracy                           0.88      4957\n",
      "   macro avg       0.73      0.66      0.68      4957\n",
      "weighted avg       0.87      0.88      0.87      4957\n",
      "\n"
     ]
    }
   ],
   "source": [
    "print(classification_report(y_test,pred))"
   ]
  },
  {
   "cell_type": "code",
   "execution_count": 26,
   "metadata": {},
   "outputs": [
    {
     "name": "stdout",
     "output_type": "stream",
     "text": [
      "0.8840024208190438\n",
      "              precision    recall  f1-score   support\n",
      "\n",
      "         0.0       0.45      0.16      0.23       290\n",
      "         1.0       0.91      0.96      0.93      3832\n",
      "         2.0       0.82      0.81      0.81       835\n",
      "\n",
      "    accuracy                           0.88      4957\n",
      "   macro avg       0.73      0.64      0.66      4957\n",
      "weighted avg       0.87      0.88      0.87      4957\n",
      "\n"
     ]
    }
   ],
   "source": [
    "#Training\n",
    "model=RandomForestClassifier(max_features='auto',min_samples_split=5,n_estimators=300)\n",
    "model.fit(X_train,y_train)\n",
    "\n",
    "#Predicting \n",
    "pred=model.predict(X_test)\n",
    "\n",
    "\n",
    "#Evaluation de l'algorithme\n",
    "\n",
    "print(accuracy_score(y_test,pred))\n",
    "print(classification_report(y_test,pred))"
   ]
  },
  {
   "cell_type": "code",
   "execution_count": null,
   "metadata": {},
   "outputs": [],
   "source": []
  }
 ],
 "metadata": {
  "kernelspec": {
   "display_name": "Python 3",
   "language": "python",
   "name": "python3"
  },
  "language_info": {
   "codemirror_mode": {
    "name": "ipython",
    "version": 3
   },
   "file_extension": ".py",
   "mimetype": "text/x-python",
   "name": "python",
   "nbconvert_exporter": "python",
   "pygments_lexer": "ipython3",
   "version": "3.7.6"
  }
 },
 "nbformat": 4,
 "nbformat_minor": 4
}
